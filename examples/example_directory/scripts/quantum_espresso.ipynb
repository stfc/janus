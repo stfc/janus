{
 "cells": [
  {
   "cell_type": "markdown",
   "metadata": {},
   "source": [
    "# Dataset Generation (Quantum Espresso)"
   ]
  },
  {
   "cell_type": "markdown",
   "metadata": {},
   "source": [
    "This covers the dataset generation using Quantum Espresso. For the corresponding steps using CP2K, see [here](cp2k.ipynb)."
   ]
  },
  {
   "cell_type": "markdown",
   "metadata": {},
   "source": [
    "## Assumed directory structure\n",
    "\n",
    "```\n",
    "example_directory\n",
    "├── active_learning\n",
    "│   ├── xyz\n",
    "│   └── simulation.lammps\n",
    "├── cp2k_input\n",
    "│   └── template.inp\n",
    "├── cp2k_output\n",
    "├── lammps\n",
    "│   └── template.lmp\n",
    "├── n2p2\n",
    "│   └── input.nn.template\n",
    "├── qe\n",
    "│   ├── pseuodos\n",
    "│   │   └── ...\n",
    "│   └── mcresol-T300-p1.xyz\n",
    "├── scripts\n",
    "│   ├── cp2k.ipynb\n",
    "│   ├── data_pruning.ipynb\n",
    "│   ├── quantum_espresso.ipynb\n",
    "│   ├── workflow.ipynb\n",
    "│   └── visualise.ipynb\n",
    "├── validation\n",
    "├── xyz\n",
    "└── reference.history\n",
    "```"
   ]
  },
  {
   "cell_type": "markdown",
   "metadata": {},
   "source": [
    "Note that in order to generate charges, the valence of each atomic species should be provided. Otherwise it is an optional argument and will not be used."
   ]
  },
  {
   "cell_type": "code",
   "execution_count": null,
   "metadata": {},
   "outputs": [],
   "source": [
    "# Executables and filepaths\n",
    "main_directory = '..'\n",
    "n2p2_bin = '/path/to/n2p2/bin'\n",
    "lammps_executable = '/path/to/lammps/build/lmp_mpi'\n",
    "qe_module_commands = [\n",
    "    'module use ...',\n",
    "    'module load ...',\n",
    "]\n",
    "slurm_constraint = \"constraint\""
   ]
  },
  {
   "cell_type": "code",
   "execution_count": null,
   "metadata": {},
   "outputs": [],
   "source": [
    "from cc_hdnnp.controller import Controller\n",
    "from cc_hdnnp.structure import AllStructures, Species, Structure\n",
    "\n",
    "# Create objects for all elements in the structure\n",
    "H = Species(symbol='H', atomic_number=1, mass=1.00794, valence=1)\n",
    "C = Species(symbol='C', atomic_number=6, mass=12.011, valence=4)\n",
    "O = Species(symbol='O', atomic_number=8, mass=15.9994, valence=6)\n",
    "\n",
    "# Define a name for the Structure which has the above constituent elements\n",
    "# Information used for active learning, such as the energy and force tolerances is also defined here\n",
    "all_species = [H, C, O]\n",
    "structure = Structure(\n",
    "    name='mcresol', all_species=all_species, delta_E=1e-4, delta_F=1e-2\n",
    ")\n",
    "all_structures = AllStructures(structure)\n",
    "\n",
    "controller = Controller(\n",
    "    structures=all_structures,\n",
    "    main_directory=main_directory,\n",
    "    n2p2_bin=n2p2_bin,\n",
    "    lammps_executable=lammps_executable,\n",
    "    qe_module_commands=qe_module_commands,\n",
    ")"
   ]
  },
  {
   "cell_type": "markdown",
   "metadata": {},
   "source": [
    "## 1. Prepare Quantum Espresso Input\n",
    "There are no utility scripts for the generation of configurations. Instead a single file containing the input frames should be located within `\"../qe\"` with the naming pattern of \"`{structure.name}`-T`{temperature}`-p`{pressure}`.xyz\". So for this example, where one temperature and pressure is provided, a single file is needed but in general multiple files would be needed if multiple `Structures`, temperatures or pressures were used."
   ]
  },
  {
   "cell_type": "code",
   "execution_count": null,
   "metadata": {},
   "outputs": [],
   "source": [
    "pseudos = {\n",
    "    \"H\": \"H.pbe-rrkjus_psl.1.0.0.UPF\",\n",
    "    \"C\": \"C.pbe-n-rrkjus_psl.1.0.0.UPF\",\n",
    "    \"O\": \"O.pbe-n-rrkjus_psl.1.0.0.UPF\",\n",
    "}\n",
    "controller.prepare_qe(\n",
    "    qe_directory=\"qe\",\n",
    "    temperatures=[300,],\n",
    "    pressures=[1,],\n",
    "    selection=(0, 1),\n",
    "    structure=structure,\n",
    "    pseudos=pseudos,\n",
    "    constraint=slurm_constraint,\n",
    ")"
   ]
  },
  {
   "cell_type": "markdown",
   "metadata": {},
   "source": [
    "To control how many of the frames are selected, `selection` can be used to set the starting frame (first element) and the gap between each sampled frame (second element). So `(0, 1)` samples every frame, `(10, 2)` would sample every even frame starting with `10` and so on.\n",
    "\n",
    "For each selected frame, a subdirectory within `\"../qe\"` is created containing the relevant input files. Additionally, a utility script that submits all QE batch scripts in one go is written to the scripts folder:"
   ]
  },
  {
   "cell_type": "code",
   "execution_count": null,
   "metadata": {},
   "outputs": [],
   "source": [
    "!bash qe_all.sh"
   ]
  },
  {
   "cell_type": "markdown",
   "metadata": {},
   "source": [
    "## 2. Write data to N2P2\n",
    "After QE has run and the energy, force and charges have been calculated, these need to be written into the N2P2 format:"
   ]
  },
  {
   "cell_type": "code",
   "execution_count": null,
   "metadata": {},
   "outputs": [],
   "source": [
    "controller.write_n2p2_data_qe(\n",
    "    structure_name=\"mcresol\", temperatures=[300], pressures=[1],\n",
    ")"
   ]
  }
 ],
 "metadata": {
  "interpreter": {
   "hash": "014a019344473c251a50cb45dcadf8d9c61fae40c5010d2c3a9b5a9dfbb2eb38"
  },
  "kernelspec": {
   "display_name": "Python 3.8.8 64-bit ('cc-hdnnp-Ufmq_e4K-py3.8': venv)",
   "name": "python3"
  },
  "language_info": {
   "codemirror_mode": {
    "name": "ipython",
    "version": 3
   },
   "file_extension": ".py",
   "mimetype": "text/x-python",
   "name": "python",
   "nbconvert_exporter": "python",
   "pygments_lexer": "ipython3",
   "version": "3.8.8"
  },
  "orig_nbformat": 4
 },
 "nbformat": 4,
 "nbformat_minor": 2
}
