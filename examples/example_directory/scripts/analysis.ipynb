{
 "cells": [
  {
   "attachments": {},
   "cell_type": "markdown",
   "metadata": {},
   "source": [
    "# Analysis"
   ]
  },
  {
   "cell_type": "markdown",
   "metadata": {},
   "source": [
    "## Assumed directory structure\n",
    "\n",
    "```\n",
    "example_directory\n",
    "├── active_learning\n",
    "│   ├── xyz\n",
    "│   └── simulation.lammps\n",
    "├── cp2k_input\n",
    "│   └── template.inp\n",
    "├── cp2k_output\n",
    "├── lammps\n",
    "│   └── template.lmp\n",
    "├── n2p2\n",
    "│   └── input.nn.template\n",
    "├── qe\n",
    "│   ├── pseuodos\n",
    "│   │   └── ...\n",
    "│   └── mcresol-T300-p1.xyz\n",
    "├── scripts\n",
    "│   ├── cp2k.ipynb\n",
    "│   ├── data_pruning.ipynb\n",
    "│   ├── quantum_espresso.ipynb\n",
    "│   ├── workflow.ipynb\n",
    "│   └── visualise.ipynb\n",
    "├── validation\n",
    "├── xyz\n",
    "└── reference.history\n",
    "```\n",
    "\n",
    "While functions allow for filepaths to be specified, the default arguments will assume the above directory structure, and will read and write to locations accordingly.\n",
    "\n",
    "Another aspect of how the code handles paths is the formatting of file names when creating multiple files with a regular naming pattern. For example, as only a single trajectory is expected this is given with a full file name (e.g. `'example_trajectory.history'`) but the individual frames should contain a pair of braces to allow formatting (e.g. `'xyz/{}.xyz'`).\n",
    "\n",
    "Finally, in some cases \"template\" files can be used which contain details that are not needed to be routinely changed as part of the workflow, and are not dependent on the structures being dealt with. To change these, simply modify the template files. \n",
    "\n",
    "The majority of file management and high level commands are called via the `Controller` object. This stores information about the directory structure, location of executables and the properties of the atoms in question. The latter in turn uses `Species` and `Structure` objects to store general information about the systems of interest, with specific configurations of atoms being represented by a `Dataset` and its constituent `Frames`."
   ]
  },
  {
   "cell_type": "code",
   "execution_count": null,
   "metadata": {},
   "outputs": [],
   "source": [
    "# Executables, filepaths, etc.\n",
    "main_directory = '..'\n",
    "n2p2_sub_directories = ['n2p2']\n",
    "lammps_sub_directory = 'lammps'\n",
    "n2p2_bin = '/path/to/n2p2/bin'\n",
    "lammps_executable = '/path/to/lammps/build/lmp_mpi'\n",
    "n2p2_module_commands = [\n",
    "    'export OPENBLAS_NUM_THREADS=1'\n",
    "]\n",
    "slurm_constraint = \"constraint\""
   ]
  },
  {
   "cell_type": "code",
   "execution_count": null,
   "metadata": {},
   "outputs": [],
   "source": [
    "from cc_hdnnp.controller import Controller\n",
    "from cc_hdnnp.structure import AllStructures, Species, Structure\n",
    "\n",
    "# Create objects for all elements in the structure\n",
    "H = Species(\n",
    "    symbol='H',\n",
    "    atomic_number=1,\n",
    "    mass=1.00794,\n",
    "    valence=1,\n",
    "    min_separation={\"H\": 0.8, \"C\": 0.8, \"O\": 0.8},\n",
    ")\n",
    "C = Species(\n",
    "    symbol='C',\n",
    "    atomic_number=6,\n",
    "    mass=12.011,\n",
    "    min_separation={\"H\": 0.8, \"C\": 0.8, \"O\": 0.8},\n",
    "    valence=4,\n",
    ")\n",
    "O = Species(\n",
    "    symbol='O',\n",
    "    atomic_number=8,\n",
    "    mass=15.9994,\n",
    "    min_separation={\"H\": 0.8, \"C\": 0.8, \"O\": 0.8},\n",
    "    valence=6\n",
    ")\n",
    "\n",
    "# Define a name for the Structure which has the above constituent elements\n",
    "# Information used for active learning, such as the energy and force tolerances is also defined here\n",
    "all_species = [H, C, O]\n",
    "structure = Structure(name='mcresol', all_species=all_species, delta_E=1e-4, delta_F=1e-2)\n",
    "all_structures = AllStructures(structure)\n",
    "\n",
    "controller = Controller(\n",
    "    structures=all_structures,\n",
    "    main_directory=main_directory,\n",
    "    n2p2_sub_directories=n2p2_sub_directories,\n",
    "    lammps_sub_directory=lammps_sub_directory,\n",
    "    n2p2_bin=n2p2_bin,\n",
    "    lammps_executable=lammps_executable,\n",
    "    n2p2_module_commands=n2p2_module_commands,\n",
    ")"
   ]
  },
  {
   "attachments": {},
   "cell_type": "markdown",
   "metadata": {},
   "source": [
    "## 1. Compare distances"
   ]
  },
  {
   "attachments": {},
   "cell_type": "markdown",
   "metadata": {},
   "source": [
    "It can be useful to calculate the distances between structures in two data files. For `structure_indicies = [[a, b], [c, d]]`, structures a - b inclusive from the first input file are compared to structures c - d inclusive from the second input file. The results are saved in text files of the form `file_out.i`, where i ranges from c to d, which can then be combined into a single `file_out`."
   ]
  },
  {
   "cell_type": "code",
   "execution_count": null,
   "metadata": {},
   "outputs": [],
   "source": [
    "from cc_hdnnp.dataset import Dataset\n",
    "\n",
    "files_in = [\"../traj_1.xyz\", \"../traj_2.xyz\"]\n",
    "formats=[\"extxyz\", \"extxyz\"]\n",
    "file_out = \"../distance_calcs/distances.csv\""
   ]
  },
  {
   "cell_type": "code",
   "execution_count": null,
   "metadata": {},
   "outputs": [],
   "source": [
    "controller.write_distance_script(\n",
    "    files_in=files_in,\n",
    "    formats=formats,\n",
    "    structure_indicies=[[0, 99], [0, 9]],\n",
    "    file_out=file_out,\n",
    "    permute=True,\n",
    "    ntasks_per_node=16,\n",
    "    constraint=slurm_constraint,\n",
    "    export=\"PATH,OPENBLAS_NUM_THREADS\",\n",
    ")"
   ]
  },
  {
   "attachments": {},
   "cell_type": "markdown",
   "metadata": {},
   "source": [
    "The script to compare distances can then be run as follows:"
   ]
  },
  {
   "cell_type": "code",
   "execution_count": null,
   "metadata": {},
   "outputs": [],
   "source": [
    "!sbatch calc_distances.sh"
   ]
  },
  {
   "attachments": {},
   "cell_type": "markdown",
   "metadata": {},
   "source": [
    "The output files can then be combined into a single file:"
   ]
  },
  {
   "cell_type": "code",
   "execution_count": null,
   "metadata": {},
   "outputs": [],
   "source": [
    "controller.combine_distance_files(\n",
    "    file_in=files_in[1],\n",
    "    format=formats[1],\n",
    "    indicies=[0, 9],\n",
    "    file_out=file_out,\n",
    ")"
   ]
  },
  {
   "attachments": {},
   "cell_type": "markdown",
   "metadata": {},
   "source": [
    "The results can then be imported and analysed:"
   ]
  },
  {
   "cell_type": "code",
   "execution_count": null,
   "metadata": {},
   "outputs": [],
   "source": [
    "import numpy as np\n",
    "from numpy import genfromtxt\n",
    "import matplotlib.pyplot as plt\n",
    "\n",
    "distances = np.genfromtxt(file_out, delimiter=',')\n",
    "distances = distances.reshape(99, 9)\n",
    "\n",
    "plt.hist(distances, bins=20)\n",
    "plt.show()"
   ]
  }
 ],
 "metadata": {
  "interpreter": {
   "hash": "f1f3a24fad89bf6a26a1a265e74673afc0a05777de7be9df46ce49311c93c097"
  },
  "kernelspec": {
   "display_name": "Python 3 (ipykernel)",
   "language": "python",
   "name": "python3"
  },
  "language_info": {
   "codemirror_mode": {
    "name": "ipython",
    "version": 3
   },
   "file_extension": ".py",
   "mimetype": "text/x-python",
   "name": "python",
   "nbconvert_exporter": "python",
   "pygments_lexer": "ipython3",
   "version": "3.8.13"
  }
 },
 "nbformat": 4,
 "nbformat_minor": 2
}
